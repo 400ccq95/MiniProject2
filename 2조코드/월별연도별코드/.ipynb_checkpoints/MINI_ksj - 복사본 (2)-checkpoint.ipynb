{
 "cells": [
  {
   "cell_type": "code",
   "execution_count": null,
   "id": "8d457abc",
   "metadata": {},
   "outputs": [],
   "source": [
    "import pandas as pd\n",
    "import numpy as np\n",
    "import warnings\n",
    "warnings.filterwarnings('ignore')\n",
    "import seaborn as sns\n",
    "import matplotlib.pyplot as plt\n",
    "# 한글처리\n",
    "plt.rc('font', family='Malgun Gothic')\n",
    "# '-' 문자 처리\n",
    "plt.rc('axes', unicode_minus=False)\n",
    "\n",
    "import chart_studio.plotly as py\n",
    "import cufflinks as cf\n",
    "cf.go_offline(connected=True)\n",
    "\n",
    "import plotly.graph_objects as go\n",
    "import plotly.offline as pyo\n",
    "# jupyter notebook 에서 표시되도록 설정하기\n",
    "pyo.init_notebook_mode()"
   ]
  },
  {
   "cell_type": "markdown",
   "id": "69a2abaf",
   "metadata": {},
   "source": [
    "## 식습관과 월별, 연도별 상관관계\n",
    "\n",
    "### 가설\n",
    " - 월별 제철음식(식습관)이 식중독 발병에 영향을 미칠 것이다\n",
    " - 연도별 GDP(국내총생산)가 식중독 발병에 영향을 미칠 것이다\n",
    " \n",
    "### data 출처\n",
    "  - 식품안전나라 > 식중독 통계\n",
    "  https://www.foodsafetykorea.go.kr/portal/healthyfoodlife/foodPoisoningStat.do?menu_no=4425&menu_grp=MENU_NEW02\n",
    "  \n",
    "  - 나무위키(월별 제철음식)\n",
    "  https://namu.wiki/w/%EA%B3%84%EC%A0%88%20%EC%9D%8C%EC%8B%9D\n",
    "  \n",
    "  - 연도별 GDP\n",
    "  https://datacommons.org/place/country/KOR?utm_medium=explore&mprop=amount&popt=EconomicActivity&cpv=activitySource%2CGrossDomesticProduction&hl=ko\n",
    "  <br>datacatalog.worldbank.org\n",
    "  \n",
    "### 주요 질문\n",
    "  - 1) 월별 제철음식에는 어떤 것들이 있는가?\n",
    "      - 제철음식별 어떠한 특징이 식중독 발병에 영향이 있을 것 같은가?\n",
    "  - 2) 년도별 GDP(국내총생산)가 어떻게 변화되었는가?\n",
    "      - 그 차이가 사람들의 식습관에 어떤 영향을 끼치는가?\n",
    "      "
   ]
  },
  {
   "cell_type": "code",
   "execution_count": null,
   "id": "fa8542ca",
   "metadata": {},
   "outputs": [],
   "source": [
    "# Data\n",
    "month_df =  pd.read_excel('data/month_FP.xlsx')\n",
    "year_df =  pd.read_excel('data/year_FP.xlsx')\n",
    "gdp_df = pd.read_csv('data/year_gdp.csv')"
   ]
  },
  {
   "cell_type": "code",
   "execution_count": null,
   "id": "ed4dfc86",
   "metadata": {
    "scrolled": false
   },
   "outputs": [],
   "source": [
    "# Data 확인\n",
    "print(month_df.shape)\n",
    "print(year_df.shape)\n",
    "print(gdp_df.shape)"
   ]
  },
  {
   "cell_type": "markdown",
   "id": "52471150",
   "metadata": {},
   "source": [
    "### month_df"
   ]
  },
  {
   "cell_type": "code",
   "execution_count": null,
   "id": "c17c306c",
   "metadata": {
    "scrolled": true
   },
   "outputs": [],
   "source": [
    "# month_df의 행과 열 확인\n",
    "print(month_df.columns[0])\n",
    "print(month_df.columns[1])\n",
    "print(month_df.columns[2])\n",
    "print(month_df.index)"
   ]
  },
  {
   "cell_type": "code",
   "execution_count": null,
   "id": "9a19498f",
   "metadata": {},
   "outputs": [],
   "source": [
    "# month_df DataFrame 확인\n",
    "display(month_df)"
   ]
  },
  {
   "cell_type": "code",
   "execution_count": null,
   "id": "7e3aabd7",
   "metadata": {
    "scrolled": false
   },
   "outputs": [],
   "source": [
    "# '합계'행(12번째 행) 삭제\n",
    "month_df = month_df.drop(12, axis = 0)\n",
    "month_df"
   ]
  },
  {
   "cell_type": "code",
   "execution_count": null,
   "id": "00512d28",
   "metadata": {
    "scrolled": false
   },
   "outputs": [],
   "source": [
    "# 월별 식중독 발생건수\n",
    "month_df_case = month_df.drop(['환자수(명)'], axis = 1)\n",
    "month_df_case"
   ]
  },
  {
   "cell_type": "code",
   "execution_count": null,
   "id": "b94a493a",
   "metadata": {},
   "outputs": [],
   "source": [
    "print(month_df_case.index)\n",
    "month_df_case.columns"
   ]
  },
  {
   "cell_type": "code",
   "execution_count": null,
   "id": "e618f4dd",
   "metadata": {},
   "outputs": [],
   "source": [
    "print(month_df_case['월'])\n",
    "month_df_case.index"
   ]
  },
  {
   "cell_type": "code",
   "execution_count": null,
   "id": "bcd4e945",
   "metadata": {},
   "outputs": [],
   "source": [
    "##############################################\n",
    "# marker_color에 들어갈 색 정하기! cf) colors# 미완성\n",
    "##############################################\n",
    "print(month_df_case['월'])\n",
    "month_length = len(month_df_case['월'])\n",
    "print(month_length)"
   ]
  },
  {
   "cell_type": "code",
   "execution_count": null,
   "id": "8d294bb9",
   "metadata": {},
   "outputs": [],
   "source": [
    "# month_df_case 시각화\n",
    "fig = go.Figure()\n",
    "fig.add_trace(\n",
    "    go.Bar(\n",
    "        x = month_df_case['월'],\n",
    "        y = month_df_case['발생건수(건)'],\n",
    "        text = month_df_case['발생건수(건)'],\n",
    "        textposition = 'auto',\n",
    "        texttemplate = '%{text} 건'\n",
    "#         marker_color = colors\n",
    "    )\n",
    ")\n",
    "fig.update_layout(\n",
    "    {\n",
    "        'title' : {\n",
    "            'text' : '<b>월별 식중독 발생건수</b>',\n",
    "            'x' : 0.5, 'y' : 0.9,\n",
    "            'font':{\n",
    "                'size' : 15\n",
    "            }\n",
    "        },\n",
    "        'xaxis' : {\n",
    "            'title' : '1월 ~ 12월',\n",
    "            'showticklabels' : True,\n",
    "            'tick0' : '1월',\n",
    "            'dtick' : 'M1',\n",
    "            'tickfont' : {\n",
    "                'size' : 10\n",
    "            }\n",
    "        },\n",
    "        'yaxis' : {\n",
    "        'title' : '발생건수(건)'\n",
    "        },\n",
    "        'template' : 'plotly_white'\n",
    "    }\n",
    ")\n",
    "fig.show()"
   ]
  },
  {
   "cell_type": "code",
   "execution_count": null,
   "id": "cbce9a04",
   "metadata": {
    "scrolled": false
   },
   "outputs": [],
   "source": [
    "# 월별 식중독 환자수\n",
    "month_df_count = month_df.drop(['발생건수(건)'], axis = 1)\n",
    "month_df_count"
   ]
  },
  {
   "cell_type": "code",
   "execution_count": null,
   "id": "a4d85091",
   "metadata": {},
   "outputs": [],
   "source": [
    "# month_df_count 시각화\n",
    "fig = go.Figure()\n",
    "fig.add_trace(\n",
    "    go.Bar(\n",
    "        x = month_df_count['월'],\n",
    "        y = month_df_count['환자수(명)'],\n",
    "        text = month_df_count['환자수(명)'],\n",
    "        textposition = 'auto',\n",
    "        texttemplate = '%{text} 명'\n",
    "#         marker_color = colors\n",
    "    )\n",
    ")\n",
    "fig.update_layout(\n",
    "    {\n",
    "        'title' : {\n",
    "            'text' : '<b>월별 식중독 환자수</b>',\n",
    "            'x' : 0.5, 'y' : 0.9,\n",
    "            'font':{\n",
    "                'size' : 15\n",
    "            }\n",
    "        },\n",
    "        'xaxis' : {\n",
    "            'title' : '1월 ~ 12월',\n",
    "            'showticklabels' : True,\n",
    "            'tick0' : '1월',\n",
    "            'dtick' : 'M1',\n",
    "            'tickfont' : {\n",
    "                'size' : 10\n",
    "            }\n",
    "        },\n",
    "        'yaxis' : {\n",
    "        'title' : '환자수(명)'\n",
    "        },\n",
    "        'template' : 'plotly_white'\n",
    "    }\n",
    ")\n",
    "fig.show()"
   ]
  },
  {
   "cell_type": "markdown",
   "id": "4e43a691",
   "metadata": {},
   "source": [
    "### year_df"
   ]
  },
  {
   "cell_type": "code",
   "execution_count": null,
   "id": "2fa4294a",
   "metadata": {},
   "outputs": [],
   "source": [
    "# month_df의 행과 열 확인\n",
    "print(year_df.columns[0])\n",
    "print(year_df.columns[1])\n",
    "print(year_df.columns[2])\n",
    "print(year_df.index)"
   ]
  },
  {
   "cell_type": "code",
   "execution_count": null,
   "id": "7984422e",
   "metadata": {},
   "outputs": [],
   "source": [
    "# year_df DataFrame 확인\n",
    "display(year_df)"
   ]
  },
  {
   "cell_type": "code",
   "execution_count": null,
   "id": "d79dc23d",
   "metadata": {},
   "outputs": [],
   "source": [
    "# '합계'(18번째)행 삭제\n",
    "year_df = year_df.drop(18, axis = 0)\n",
    "year_df"
   ]
  },
  {
   "cell_type": "code",
   "execution_count": null,
   "id": "cf5a2d85",
   "metadata": {},
   "outputs": [],
   "source": [
    "# 연도별 식중독 발생건수\n",
    "year_df_case = year_df.drop(['환자수(명)'], axis = 1)\n",
    "year_df_case"
   ]
  },
  {
   "cell_type": "code",
   "execution_count": null,
   "id": "e7dfbdee",
   "metadata": {},
   "outputs": [],
   "source": [
    "# 연도별 식중독 환자수\n",
    "year_df_case = year_df.drop(['발생건수(건)'], axis = 1)\n",
    "year_df_case"
   ]
  },
  {
   "cell_type": "code",
   "execution_count": null,
   "id": "877b2e40",
   "metadata": {},
   "outputs": [],
   "source": []
  },
  {
   "cell_type": "code",
   "execution_count": null,
   "id": "c8544cf3",
   "metadata": {},
   "outputs": [],
   "source": []
  },
  {
   "cell_type": "code",
   "execution_count": null,
   "id": "4a821312",
   "metadata": {},
   "outputs": [],
   "source": []
  },
  {
   "cell_type": "code",
   "execution_count": null,
   "id": "4fac625a",
   "metadata": {},
   "outputs": [],
   "source": []
  },
  {
   "cell_type": "code",
   "execution_count": null,
   "id": "037dcf85",
   "metadata": {},
   "outputs": [],
   "source": []
  },
  {
   "cell_type": "code",
   "execution_count": null,
   "id": "abf7a3bd",
   "metadata": {},
   "outputs": [],
   "source": []
  },
  {
   "cell_type": "code",
   "execution_count": null,
   "id": "ca32d859",
   "metadata": {},
   "outputs": [],
   "source": []
  },
  {
   "cell_type": "code",
   "execution_count": null,
   "id": "1c075eb5",
   "metadata": {},
   "outputs": [],
   "source": []
  }
 ],
 "metadata": {
  "kernelspec": {
   "display_name": "Python 3 (ipykernel)",
   "language": "python",
   "name": "python3"
  },
  "language_info": {
   "codemirror_mode": {
    "name": "ipython",
    "version": 3
   },
   "file_extension": ".py",
   "mimetype": "text/x-python",
   "name": "python",
   "nbconvert_exporter": "python",
   "pygments_lexer": "ipython3",
   "version": "3.9.12"
  }
 },
 "nbformat": 4,
 "nbformat_minor": 5
}
